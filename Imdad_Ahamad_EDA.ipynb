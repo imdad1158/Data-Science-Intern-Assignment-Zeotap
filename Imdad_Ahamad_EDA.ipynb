{
 "cells": [
  {
   "cell_type": "markdown",
   "id": "8c88350c",
   "metadata": {},
   "source": [
    " Assignment Tasks:\n",
    " \n",
    " \n",
    "Task 1: Exploratory Data Analysis (EDA) and Business Insights\n",
    "1. Perform EDA on the provided dataset.\n",
    "2. Derive at least 5 business insights from the EDA.\n",
    "○ Write these insights in short point-wise sentences (maximum 100 words per\n",
    "insight).\n"
   ]
  },
  {
   "cell_type": "markdown",
   "id": "1ddea29c",
   "metadata": {},
   "source": [
    "Deliverables:\n",
    "\n",
    "\n",
    "● A Jupyter Notebook/Python script containing your EDA code.\n",
    "● A PDF report with business insights (maximum 500 words)."
   ]
  },
  {
   "cell_type": "markdown",
   "id": "7ac93893",
   "metadata": {},
   "source": [
    "# Importing libraries"
   ]
  },
  {
   "cell_type": "code",
   "execution_count": 2,
   "id": "406b3d6c",
   "metadata": {},
   "outputs": [],
   "source": [
    "import pandas as pd\n",
    "import matplotlib.pyplot as plt\n",
    "import seaborn as sns"
   ]
  },
  {
   "cell_type": "markdown",
   "id": "004d63c9",
   "metadata": {},
   "source": [
    "## Load and preprocess data"
   ]
  },
  {
   "cell_type": "code",
   "execution_count": 3,
   "id": "6a65c111",
   "metadata": {},
   "outputs": [],
   "source": [
    "data = pd.read_csv(r\"Customers.csv\")"
   ]
  },
  {
   "cell_type": "code",
   "execution_count": 7,
   "id": "23ea0201",
   "metadata": {},
   "outputs": [
    {
     "data": {
      "text/html": [
       "<div>\n",
       "<style scoped>\n",
       "    .dataframe tbody tr th:only-of-type {\n",
       "        vertical-align: middle;\n",
       "    }\n",
       "\n",
       "    .dataframe tbody tr th {\n",
       "        vertical-align: top;\n",
       "    }\n",
       "\n",
       "    .dataframe thead th {\n",
       "        text-align: right;\n",
       "    }\n",
       "</style>\n",
       "<table border=\"1\" class=\"dataframe\">\n",
       "  <thead>\n",
       "    <tr style=\"text-align: right;\">\n",
       "      <th></th>\n",
       "      <th>CustomerID</th>\n",
       "      <th>CustomerName</th>\n",
       "      <th>Region</th>\n",
       "      <th>SignupDate</th>\n",
       "    </tr>\n",
       "  </thead>\n",
       "  <tbody>\n",
       "    <tr>\n",
       "      <th>0</th>\n",
       "      <td>C0001</td>\n",
       "      <td>Lawrence Carroll</td>\n",
       "      <td>South America</td>\n",
       "      <td>2022-07-10</td>\n",
       "    </tr>\n",
       "    <tr>\n",
       "      <th>1</th>\n",
       "      <td>C0002</td>\n",
       "      <td>Elizabeth Lutz</td>\n",
       "      <td>Asia</td>\n",
       "      <td>2022-02-13</td>\n",
       "    </tr>\n",
       "    <tr>\n",
       "      <th>2</th>\n",
       "      <td>C0003</td>\n",
       "      <td>Michael Rivera</td>\n",
       "      <td>South America</td>\n",
       "      <td>2024-03-07</td>\n",
       "    </tr>\n",
       "    <tr>\n",
       "      <th>3</th>\n",
       "      <td>C0004</td>\n",
       "      <td>Kathleen Rodriguez</td>\n",
       "      <td>South America</td>\n",
       "      <td>2022-10-09</td>\n",
       "    </tr>\n",
       "    <tr>\n",
       "      <th>4</th>\n",
       "      <td>C0005</td>\n",
       "      <td>Laura Weber</td>\n",
       "      <td>Asia</td>\n",
       "      <td>2022-08-15</td>\n",
       "    </tr>\n",
       "    <tr>\n",
       "      <th>...</th>\n",
       "      <td>...</td>\n",
       "      <td>...</td>\n",
       "      <td>...</td>\n",
       "      <td>...</td>\n",
       "    </tr>\n",
       "    <tr>\n",
       "      <th>195</th>\n",
       "      <td>C0196</td>\n",
       "      <td>Laura Watts</td>\n",
       "      <td>Europe</td>\n",
       "      <td>2022-06-07</td>\n",
       "    </tr>\n",
       "    <tr>\n",
       "      <th>196</th>\n",
       "      <td>C0197</td>\n",
       "      <td>Christina Harvey</td>\n",
       "      <td>Europe</td>\n",
       "      <td>2023-03-21</td>\n",
       "    </tr>\n",
       "    <tr>\n",
       "      <th>197</th>\n",
       "      <td>C0198</td>\n",
       "      <td>Rebecca Ray</td>\n",
       "      <td>Europe</td>\n",
       "      <td>2022-02-27</td>\n",
       "    </tr>\n",
       "    <tr>\n",
       "      <th>198</th>\n",
       "      <td>C0199</td>\n",
       "      <td>Andrea Jenkins</td>\n",
       "      <td>Europe</td>\n",
       "      <td>2022-12-03</td>\n",
       "    </tr>\n",
       "    <tr>\n",
       "      <th>199</th>\n",
       "      <td>C0200</td>\n",
       "      <td>Kelly Cross</td>\n",
       "      <td>Asia</td>\n",
       "      <td>2023-06-11</td>\n",
       "    </tr>\n",
       "  </tbody>\n",
       "</table>\n",
       "<p>200 rows × 4 columns</p>\n",
       "</div>"
      ],
      "text/plain": [
       "    CustomerID        CustomerName         Region  SignupDate\n",
       "0        C0001    Lawrence Carroll  South America  2022-07-10\n",
       "1        C0002      Elizabeth Lutz           Asia  2022-02-13\n",
       "2        C0003      Michael Rivera  South America  2024-03-07\n",
       "3        C0004  Kathleen Rodriguez  South America  2022-10-09\n",
       "4        C0005         Laura Weber           Asia  2022-08-15\n",
       "..         ...                 ...            ...         ...\n",
       "195      C0196         Laura Watts         Europe  2022-06-07\n",
       "196      C0197    Christina Harvey         Europe  2023-03-21\n",
       "197      C0198         Rebecca Ray         Europe  2022-02-27\n",
       "198      C0199      Andrea Jenkins         Europe  2022-12-03\n",
       "199      C0200         Kelly Cross           Asia  2023-06-11\n",
       "\n",
       "[200 rows x 4 columns]"
      ]
     },
     "execution_count": 7,
     "metadata": {},
     "output_type": "execute_result"
    }
   ],
   "source": [
    "data"
   ]
  },
  {
   "cell_type": "code",
   "execution_count": 5,
   "id": "c119f369",
   "metadata": {},
   "outputs": [
    {
     "data": {
      "text/html": [
       "<div>\n",
       "<style scoped>\n",
       "    .dataframe tbody tr th:only-of-type {\n",
       "        vertical-align: middle;\n",
       "    }\n",
       "\n",
       "    .dataframe tbody tr th {\n",
       "        vertical-align: top;\n",
       "    }\n",
       "\n",
       "    .dataframe thead th {\n",
       "        text-align: right;\n",
       "    }\n",
       "</style>\n",
       "<table border=\"1\" class=\"dataframe\">\n",
       "  <thead>\n",
       "    <tr style=\"text-align: right;\">\n",
       "      <th></th>\n",
       "      <th>CustomerID</th>\n",
       "      <th>CustomerName</th>\n",
       "      <th>Region</th>\n",
       "      <th>SignupDate</th>\n",
       "    </tr>\n",
       "  </thead>\n",
       "  <tbody>\n",
       "    <tr>\n",
       "      <th>0</th>\n",
       "      <td>C0001</td>\n",
       "      <td>Lawrence Carroll</td>\n",
       "      <td>South America</td>\n",
       "      <td>2022-07-10</td>\n",
       "    </tr>\n",
       "    <tr>\n",
       "      <th>1</th>\n",
       "      <td>C0002</td>\n",
       "      <td>Elizabeth Lutz</td>\n",
       "      <td>Asia</td>\n",
       "      <td>2022-02-13</td>\n",
       "    </tr>\n",
       "    <tr>\n",
       "      <th>2</th>\n",
       "      <td>C0003</td>\n",
       "      <td>Michael Rivera</td>\n",
       "      <td>South America</td>\n",
       "      <td>2024-03-07</td>\n",
       "    </tr>\n",
       "    <tr>\n",
       "      <th>3</th>\n",
       "      <td>C0004</td>\n",
       "      <td>Kathleen Rodriguez</td>\n",
       "      <td>South America</td>\n",
       "      <td>2022-10-09</td>\n",
       "    </tr>\n",
       "    <tr>\n",
       "      <th>4</th>\n",
       "      <td>C0005</td>\n",
       "      <td>Laura Weber</td>\n",
       "      <td>Asia</td>\n",
       "      <td>2022-08-15</td>\n",
       "    </tr>\n",
       "  </tbody>\n",
       "</table>\n",
       "</div>"
      ],
      "text/plain": [
       "  CustomerID        CustomerName         Region  SignupDate\n",
       "0      C0001    Lawrence Carroll  South America  2022-07-10\n",
       "1      C0002      Elizabeth Lutz           Asia  2022-02-13\n",
       "2      C0003      Michael Rivera  South America  2024-03-07\n",
       "3      C0004  Kathleen Rodriguez  South America  2022-10-09\n",
       "4      C0005         Laura Weber           Asia  2022-08-15"
      ]
     },
     "execution_count": 5,
     "metadata": {},
     "output_type": "execute_result"
    }
   ],
   "source": [
    "data.head()"
   ]
  },
  {
   "cell_type": "code",
   "execution_count": 9,
   "id": "d912a5ee",
   "metadata": {},
   "outputs": [
    {
     "data": {
      "text/plain": [
       "800"
      ]
     },
     "execution_count": 9,
     "metadata": {},
     "output_type": "execute_result"
    }
   ],
   "source": [
    "data.size"
   ]
  },
  {
   "cell_type": "code",
   "execution_count": 10,
   "id": "db58be6e",
   "metadata": {},
   "outputs": [
    {
     "data": {
      "text/plain": [
       "CustomerID                 C0001\n",
       "CustomerName    Lawrence Carroll\n",
       "Region             South America\n",
       "SignupDate            2022-07-10\n",
       "Name: 0, dtype: object"
      ]
     },
     "execution_count": 10,
     "metadata": {},
     "output_type": "execute_result"
    }
   ],
   "source": [
    "data.iloc[0]"
   ]
  },
  {
   "cell_type": "code",
   "execution_count": 13,
   "id": "ae2bbb0d",
   "metadata": {},
   "outputs": [
    {
     "data": {
      "text/plain": [
       "(200, 4)"
      ]
     },
     "execution_count": 13,
     "metadata": {},
     "output_type": "execute_result"
    }
   ],
   "source": [
    "data.shape"
   ]
  },
  {
   "cell_type": "markdown",
   "id": "b6e89885",
   "metadata": {},
   "source": [
    "# Check for missing values"
   ]
  },
  {
   "cell_type": "code",
   "execution_count": 14,
   "id": "4e668ccc",
   "metadata": {},
   "outputs": [
    {
     "name": "stdout",
     "output_type": "stream",
     "text": [
      "Missing Values:\n",
      " CustomerID      0\n",
      "CustomerName    0\n",
      "Region          0\n",
      "SignupDate      0\n",
      "dtype: int64\n"
     ]
    }
   ],
   "source": [
    "missing_values = data.isnull().sum()\n",
    "print(\"Missing Values:\\n\", missing_values)"
   ]
  },
  {
   "cell_type": "markdown",
   "id": "c66460f7",
   "metadata": {},
   "source": [
    "# Get basic statistics for the dataset"
   ]
  },
  {
   "cell_type": "code",
   "execution_count": 15,
   "id": "3b7329b9",
   "metadata": {},
   "outputs": [],
   "source": [
    "summary_stats = data.describe(include='all')\n"
   ]
  },
  {
   "cell_type": "code",
   "execution_count": 16,
   "id": "5caf61f1",
   "metadata": {},
   "outputs": [
    {
     "data": {
      "text/html": [
       "<div>\n",
       "<style scoped>\n",
       "    .dataframe tbody tr th:only-of-type {\n",
       "        vertical-align: middle;\n",
       "    }\n",
       "\n",
       "    .dataframe tbody tr th {\n",
       "        vertical-align: top;\n",
       "    }\n",
       "\n",
       "    .dataframe thead th {\n",
       "        text-align: right;\n",
       "    }\n",
       "</style>\n",
       "<table border=\"1\" class=\"dataframe\">\n",
       "  <thead>\n",
       "    <tr style=\"text-align: right;\">\n",
       "      <th></th>\n",
       "      <th>CustomerID</th>\n",
       "      <th>CustomerName</th>\n",
       "      <th>Region</th>\n",
       "      <th>SignupDate</th>\n",
       "    </tr>\n",
       "  </thead>\n",
       "  <tbody>\n",
       "    <tr>\n",
       "      <th>count</th>\n",
       "      <td>200</td>\n",
       "      <td>200</td>\n",
       "      <td>200</td>\n",
       "      <td>200</td>\n",
       "    </tr>\n",
       "    <tr>\n",
       "      <th>unique</th>\n",
       "      <td>200</td>\n",
       "      <td>200</td>\n",
       "      <td>4</td>\n",
       "      <td>179</td>\n",
       "    </tr>\n",
       "    <tr>\n",
       "      <th>top</th>\n",
       "      <td>C0001</td>\n",
       "      <td>Lawrence Carroll</td>\n",
       "      <td>South America</td>\n",
       "      <td>2024-11-11</td>\n",
       "    </tr>\n",
       "    <tr>\n",
       "      <th>freq</th>\n",
       "      <td>1</td>\n",
       "      <td>1</td>\n",
       "      <td>59</td>\n",
       "      <td>3</td>\n",
       "    </tr>\n",
       "  </tbody>\n",
       "</table>\n",
       "</div>"
      ],
      "text/plain": [
       "       CustomerID      CustomerName         Region  SignupDate\n",
       "count         200               200            200         200\n",
       "unique        200               200              4         179\n",
       "top         C0001  Lawrence Carroll  South America  2024-11-11\n",
       "freq            1                 1             59           3"
      ]
     },
     "execution_count": 16,
     "metadata": {},
     "output_type": "execute_result"
    }
   ],
   "source": [
    "summary_stats"
   ]
  },
  {
   "cell_type": "code",
   "execution_count": 17,
   "id": "5f0aaada",
   "metadata": {},
   "outputs": [
    {
     "data": {
      "text/plain": [
       "(CustomerID      0\n",
       " CustomerName    0\n",
       " Region          0\n",
       " SignupDate      0\n",
       " dtype: int64,\n",
       "        CustomerID      CustomerName         Region  SignupDate\n",
       " count         200               200            200         200\n",
       " unique        200               200              4         179\n",
       " top         C0001  Lawrence Carroll  South America  2024-11-11\n",
       " freq            1                 1             59           3)"
      ]
     },
     "execution_count": 17,
     "metadata": {},
     "output_type": "execute_result"
    }
   ],
   "source": [
    "missing_values, summary_stats"
   ]
  },
  {
   "cell_type": "code",
   "execution_count": 18,
   "id": "d1b60215",
   "metadata": {},
   "outputs": [],
   "source": [
    "# Convert 'SignupDate' to datetime format\n",
    "\n",
    "data['SignupDate'] = pd.to_datetime(data['SignupDate'])\n"
   ]
  },
  {
   "cell_type": "code",
   "execution_count": 19,
   "id": "44b3013b",
   "metadata": {},
   "outputs": [],
   "source": [
    "# Add columns for analysis: Signup Month and Quarter\n",
    "data['SignupMonth'] = data['SignupDate'].dt.to_period('M')\n",
    "data['SignupQuarter'] = data['SignupDate'].dt.to_period('Q')"
   ]
  },
  {
   "cell_type": "markdown",
   "id": "7790f1f2",
   "metadata": {},
   "source": [
    "# Regional Distribution\n",
    "\n",
    "\n"
   ]
  },
  {
   "cell_type": "code",
   "execution_count": 20,
   "id": "6916e800",
   "metadata": {},
   "outputs": [
    {
     "data": {
      "image/png": "[encoded data removed]",
      "text/plain": [
       "<Figure size 800x400 with 1 Axes>"
      ]
     },
     "metadata": {},
     "output_type": "display_data"
    }
   ],
   "source": [
    "region_counts = data['Region'].value_counts()\n",
    "plt.figure(figsize=(8, 4))\n",
    "sns.barplot(x=region_counts.index, y=region_counts.values, palette=\"viridis\")\n",
    "plt.title(\"Customer Distribution by Region\")\n",
    "plt.xlabel(\"Region\")\n",
    "plt.ylabel(\"Number of Customers\")\n",
    "plt.show()"
   ]
  },
  {
   "cell_type": "markdown",
   "id": "c440b41f",
   "metadata": {},
   "source": [
    "# Monthly Signup Trends"
   ]
  },
  {
   "cell_type": "code",
   "execution_count": 21,
   "id": "90a33762",
   "metadata": {},
   "outputs": [
    {
     "data": {
      "image/png": "[encoded data removed]",
      "text/plain": [
       "<Figure size 1200x600 with 1 Axes>"
      ]
     },
     "metadata": {},
     "output_type": "display_data"
    }
   ],
   "source": [
    "monthly_trends = data['SignupMonth'].value_counts().sort_index()\n",
    "plt.figure(figsize=(12, 6))\n",
    "monthly_trends.plot(kind='bar', color='skyblue', alpha=0.8)\n",
    "plt.title(\"Monthly Signup Trends\")\n",
    "plt.xlabel(\"Month\")\n",
    "plt.ylabel(\"Number of Signups\")\n",
    "plt.xticks(rotation=45)\n",
    "plt.show()"
   ]
  },
  {
   "cell_type": "markdown",
   "id": "f67c873b",
   "metadata": {},
   "source": [
    "# Quarterly Signup Trends"
   ]
  },
  {
   "cell_type": "code",
   "execution_count": 22,
   "id": "a1bbc6bd",
   "metadata": {},
   "outputs": [
    {
     "data": {
      "image/png": "[encoded data removed]",
      "text/plain": [
       "<Figure size 1000x500 with 1 Axes>"
      ]
     },
     "metadata": {},
     "output_type": "display_data"
    }
   ],
   "source": [
    "quarterly_trends = data['SignupQuarter'].value_counts().sort_index()\n",
    "plt.figure(figsize=(10, 5))\n",
    "quarterly_trends.plot(kind='bar', color='orange', alpha=0.7)\n",
    "plt.title(\"Quarterly Signup Trends\")\n",
    "plt.xlabel(\"Quarter\")\n",
    "plt.ylabel(\"Number of Signups\")\n",
    "plt.xticks(rotation=45)\n",
    "plt.show()"
   ]
  },
  {
   "cell_type": "markdown",
   "id": "edef51f6",
   "metadata": {},
   "source": [
    "# Signup Trends by Region Over Time"
   ]
  },
  {
   "cell_type": "code",
   "execution_count": 23,
   "id": "e39875fc",
   "metadata": {},
   "outputs": [
    {
     "data": {
      "image/png": "[encoded data removed]",
      "text/plain": [
       "<Figure size 1200x600 with 2 Axes>"
      ]
     },
     "metadata": {},
     "output_type": "display_data"
    }
   ],
   "source": [
    "region_month_trends = data.groupby(['Region', 'SignupMonth']).size().unstack(fill_value=0)\n",
    "plt.figure(figsize=(12, 6))\n",
    "sns.heatmap(region_month_trends, cmap='Blues', linewidths=0.5, linecolor='white', annot=False)\n",
    "plt.title(\"Signup Trends by Region and Month\")\n",
    "plt.xlabel(\"Month\")\n",
    "plt.ylabel(\"Region\")\n",
    "plt.show()\n"
   ]
  },
  {
   "cell_type": "code",
   "execution_count": 24,
   "id": "d5b16831",
   "metadata": {},
   "outputs": [
    {
     "name": "stdout",
     "output_type": "stream",
     "text": [
      "\n",
      "Regional Distribution:\n",
      " South America    59\n",
      "Europe           50\n",
      "North America    46\n",
      "Asia             45\n",
      "Name: Region, dtype: int64\n",
      "\n",
      "Monthly Signup Trends:\n",
      " 2022-01    1\n",
      "2022-02    7\n",
      "2022-03    8\n",
      "2022-04    8\n",
      "2022-05    8\n",
      "Freq: M, Name: SignupMonth, dtype: int64\n",
      "\n",
      "Quarterly Signup Trends:\n",
      " 2022Q1    16\n",
      "2022Q2    21\n",
      "2022Q3    14\n",
      "2022Q4    13\n",
      "2023Q1    19\n",
      "2023Q2    12\n",
      "2023Q3     9\n",
      "2023Q4    17\n",
      "2024Q1    21\n",
      "2024Q2    20\n",
      "2024Q3    21\n",
      "2024Q4    17\n",
      "Freq: Q-DEC, Name: SignupQuarter, dtype: int64\n"
     ]
    }
   ],
   "source": [
    "# Output Key Statistics\n",
    "print(\"\\nRegional Distribution:\\n\", region_counts)\n",
    "print(\"\\nMonthly Signup Trends:\\n\", monthly_trends.head())\n",
    "print(\"\\nQuarterly Signup Trends:\\n\", quarterly_trends)\n"
   ]
  },
  {
   "cell_type": "code",
   "execution_count": null,
   "id": "de73ddee",
   "metadata": {},
   "outputs": [],
   "source": []
  }
 ],
 "metadata": {
  "kernelspec": {
   "display_name": "Python 3 (ipykernel)",
   "language": "python",
   "name": "python3"
  },
  "language_info": {
   "codemirror_mode": {
    "name": "ipython",
    "version": 3
   },
   "file_extension": ".py",
   "mimetype": "text/x-python",
   "name": "python",
   "nbconvert_exporter": "python",
   "pygments_lexer": "ipython3",
   "version": "3.11.4"
  }
 },
 "nbformat": 4,
 "nbformat_minor": 5
}
